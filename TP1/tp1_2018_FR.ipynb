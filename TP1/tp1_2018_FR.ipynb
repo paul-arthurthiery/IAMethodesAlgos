{
  "cells": [
    {
      "cell_type": "markdown",
      "source": [
        "# INF 8215 - Intelligence artif.: méthodes et algorithmes \n",
        "## Automne 2018 - TP1 - Méthodes de recherche \n",
        "### Membres de l'équipe\n",
        "    - Jean-Raphael Cornel\n",
        "    - Nathan Heraief \n",
        "    - Paul-Arthur Thiery\n"
      ],
      "metadata": {
        "colab_type": "text",
        "id": "7cRcaduOsoAJ"
      }
    },
    {
      "cell_type": "markdown",
      "source": [
        "## LE VÉLO À MONTRÉAL\n",
        "Chaque année, Montréal accueille à peu près 10 millions de touristes. Soucieuse de la qualité de leur séjour, Tourisme Montréal a entamé un projet de développement d’une nouvelle application mobile afin d’assister les touristes lors de leurs déplacements dans la ville. Cette application a pour but d’aider l’utilisateur à planifier sa visite des importantes attractions de la ville, de la façon la plus efficace possible (ie, sur la durée la plus courte). Étant donné qu’il a été observé que le moyen de transport privilégié des touristes pour explorer Montréal est le vélo, cette application a pour but de générer des circuits cyclables de durée minimale. Plus précisément, étant donné une liste d’attractions munie de points de départ et d’arrivée, la tâche est de proposer, à chaque fois, un chemin qui passe par toutes les attractions indiquées une seule fois, qui débute au point de départ et qui s’achève au point d’arrivée et dont la durée de trajet est minimale.\n",
        "\n",
        "<img src=\"images/montreal.png\" alt=\"\" width=\"800\"/>\n",
        "\n",
        "Le travail demandé dans ce TP est de développer l’algorithme interne de l’application. Nous explorerons trois mécanismes de résolution différents :\n",
        "1. Définition et exploration naïve d’un arbre de recherche\n",
        "2. Exploration plus efficace en utilisant l’algorithme A*\n",
        "3. Optimisation locale en utilisant une métaheuristique de recherche à voisinage variable (Variable Neighborhood Search, VNS)\n",
        "\n",
        "## PRÉSENTATION DU PROBLÈME\n",
        "Une façon naturelle de représenter notre problème est d’utiliser un graphe $G=(V, A)$ dirigé et complet. Chaque sommet dans $V$ est une attraction donnée et chaque arc dans $A$ représente une piste cyclable entre deux attractions distinctes. Chaque paire de sommets $i$ et $j$ est reliée par une paire d’arcs $a_{ij}$ et $a_{ji}$ dont les poids respectifs $w(a_{ij})$ et $w(a_{ji})$ ne sont pas nécessairement égaux. Concrètement, ces poids représentent la durée du trajet d’un sommet à l’autre (ainsi, $w$ est telle que $w : A \\to\\mathbb R^+$).\n",
        "\n",
        "La liste des attractions à visiter est indiquée comme la suite $P = (p_1, ..., p_m)$ où $p_1$ et $p_m$ sont les sommets de départ et d’arrivée, respectivement.\n",
        "\n",
        "## 1. DÉFINITION ET EXPLORATION NAÏVE D’UN ARBRE DE RECHERCHE (5 points)\n",
        "Définissons un arbre de recherche $\\mathcal{T}$ où chaque nœud représente une solution partielle $S$. Soient $V(S) \\subseteq V$ et $A(S) \\subset A$ l’ensemble des sommets visités et l’ensemble des arêtes sélectionnées, respectivement. Ainsi, le coût d’une solution est donné par :\n",
        "$$g(S) = \\sum_{a \\in A(S)} w(a)$$\n",
        "\n",
        "Seule l’origine est visitée initialement. Ainsi, la racine de l’arbre de recherche contient une solution partielle vide $S_{\\textrm{root}}$ telle que $V(S_{\\textrm{root}})=\\{p_1\\}$ et $A(S_{\\textrm{root}}) = \\emptyset$.\n",
        "\n",
        "<img src=\"images/tree1.png\" alt=\"\" width=\"100\"/>\n",
        "\n",
        "À la suite de cela, les nœuds subséquents dans l’arbre sont tous créés en ajoutant, à chaque solution partielle $S$, un sommet subséquent dans $P\\backslash V(S)$ avec l’arc correspondant dans $A$ qui relie ce sommet à la dernière attraction visitée. Le sommet $p_m$ n’est ajouté qu’à la fin, lorsqu’il est le seul sommet non encore visité. Plus formellement, si on note le sommet à ajouter $c$ et le dernier sommet visité $c'$, alors la nouvelle solution partielle obtenue est $V(S) \\gets V(S) \\cup \\{c\\}$ et $A(S) \\gets A(S) \\cup \\{(c’,c)\\}$.\n",
        "\n",
        "Ci-dessous est un exemple de l’arbre étendu depuis sa racine où $c'$ = $p_1$ :\n",
        "\n",
        "<img src=\"images/tree2.png\" alt=\"\" width=\"400\"/>\n",
        "\n",
        "À la fin, les feuilles de l’arbre sont des solutions complètes :\n",
        "\n",
        "<img src=\"images/tree3.png\" alt=\"\" width=\"600\"/>\n",
        "\n",
        "### 1.1 Code\n",
        "La fonction fournie ci-dessous permet d’extraire d’un fichier un graphe qui répond aux spécifications détaillées plus haut. Cette fonction retourne une $\\texttt{ndarray}$ ($\\texttt{graph}$) de taille $|V|\\times |V|$ où $\\texttt{graph[i,j]}$ représente le temps nécessaire pour traverser la piste cyclable de $i$ vers $j$.\n",
        "\n"
      ],
      "metadata": {
        "colab_type": "text",
        "id": "GoJ5Y8SZsoAM"
      }
    },
    {
      "cell_type": "code",
      "source": [
        "import numpy as np\n",
        "\n",
        "def read_graph():\n",
        "    return np.loadtxt(\"montreal\", dtype='i', delimiter=',')\n",
        "\ngraph = read_graph()"
      ],
      "outputs": [],
      "execution_count": 2,
      "metadata": {}
    },
    {
      "cell_type": "markdown",
      "source": [
        "Notre première tâche est de définir la classe qui représente une solution partielle. Son constructeur est donné et reçoit comme argument la liste des sommets (attractions $P$) à visiter et le graphe ($G$). Celui-ci crée la solution $S_{\\textrm{root}}$ avec les attributs suivants :\n",
        "- $\\texttt{g}$ : le coût de la solution partielle\n",
        "- $\\texttt{visited}$ : représente $V(S)$, discuté plus haut. Par définition, $\\mathtt{vistited[-1]}$ représente le dernier sommet ajouté, $ c $.\n",
        "- $\\texttt{not}\\_\\texttt{visited}$ : représente $P\\backslash V(S)$\n",
        "- $\\texttt{graph}$: représente le graphe G\n",
        "\n",
        "Ensuite, il est demandé d’implanter la méthode $\\texttt{add}$ qui mets à jour la solution partielle en ajoutant une nouvelle attraction à visiter parmi la liste $\\texttt{not}\\_\\texttt{visited}$. Cette méthode reçoit comme arguments l’index du sommet à visiter parmi $\\texttt{not}\\_\\texttt{visited}$ ainsi que le graphe courant.\n",
        "\nImplantez $\\texttt{add}$ :"
      ],
      "metadata": {}
    },
    {
      "cell_type": "code",
      "source": [
        "import copy\n",
        "\n",
        "class Solution:\n",
        "    def __init__(self, places, graph):\n",
        "        \"\"\"\n",
        "        places: a list containing the indices of attractions to visit\n",
        "        p1 = places[0]\n",
        "        pm = places[-1]\n",
        "        \"\"\"\n",
        "        self.g = 0 # current cost\n",
        "        self.graph = graph \n",
        "        self.visited = [places[0]] # list of already visited attractions\n",
        "        self.not_visited = copy.deepcopy(places[1:]) # list of attractions not yet visited\n",
        "    \n",
        "    def __lt__(self, other):\n",
        "        if(self.g<other.g):\n",
        "            return true\n",
        "        return false\n",
        "    \n",
        "    def add(self, idx):\n",
        "        \"\"\"\n",
        "        Adds the point in position idx of not_visited list to the solution\n",
        "        \"\"\"\n",
        "        self.visited.append(self.not_visited[idx])\n",
        "        self.g += self.graph[self.visited[-2]][self.visited[-1]]\n",
        "        self.not_visited.pop(idx)"
      ],
      "outputs": [],
      "execution_count": 3,
      "metadata": {}
    },
    {
      "cell_type": "markdown",
      "source": [
        "La prochaine étape est d’implanter une stratégie de parcours de l’arbre de recherche. Une première méthode simple est naïve est de mettre en œuvre une recherche en largeur ([Breadth-first search](https://moodle.polymtl.ca/pluginfile.php/444662/mod_resource/content/1/recherche_en_largeur.mp4), BFS).\n",
        "\nImplantez $\\texttt{bfs}$ qui mets en œuvre cette recherche. Elle prend en arguments le graphe courant ainsi que la liste des attractions à visiter $P$ et elle retourne la meilleure solution trouvée."
      ],
      "metadata": {}
    },
    {
      "cell_type": "code",
      "source": [
        "from queue import Queue\n",
        "\n",
        "def bfs(graph, places):\n",
        "    \"\"\"\n",
        "    Returns the best solution which spans over all attractions indicated in 'places'\n",
        "    \"\"\"\n",
        "    solution = Solution(places, graph)\n",
        "    queue = Queue()\n",
        "    queue.put(solution)\n",
        "    finalSolutions = []\n",
        "    while(queue.empty()==False):\n",
        "        currentSolution = queue.get()\n",
        "        if(currentSolution.not_visited == [places[-1]]):\n",
        "            currentSolution.add(0)\n",
        "            finalSolutions.append(currentSolution)\n",
        "        else:\n",
        "            for i in range(len(currentSolution.not_visited)) :\n",
        "                tempSolution = copy.deepcopy(currentSolution)\n",
        "                tempSolution.add(i)\n",
        "                queue.put(tempSolution)\n",
        "    min = 1000\n",
        "    for i in range(len(finalSolutions)):\n",
        "        if(finalSolutions[i].g<min):\n",
        "            min = finalSolutions[i].g\n",
        "            solutionToReturn = finalSolutions[i]\n",
        "    return solutionToReturn\n",
        "    "
      ],
      "outputs": [],
      "execution_count": 4,
      "metadata": {}
    },
    {
      "cell_type": "markdown",
      "source": [
        "### 1.2 Expérimentations\n",
        "\n",
        "On propose trois exemples d’illustration pour tester notre recherche en largeur. Le premier exemple prend en compte 7 attractions, le second 10 et le dernier 11. Vu que cette recherche énumère toutes les solutions possibles, le troisième exemple risque de prendre un temps considérable à s’achever.\n",
        "\nMettez en œuvre ces expériences et notez le nombre de nœuds explorés ainsi que le temps de calcul requis."
      ],
      "metadata": {}
    },
    {
      "cell_type": "code",
      "source": [
        "import time \n",
        "\n",
        "#test 1  --------------  OPT. SOL. = 27\n",
        "start_time = time.time()\n",
        "places=[0, 5, 13, 16, 6, 9, 4]\n",
        "sol = bfs(graph=graph, places=places)\n",
        "print(sol.g)\n",
        "print(sol.graph)\n",
        "print(\"--- %s seconds ---\" % (time.time() - start_time))"
      ],
      "outputs": [
        {
          "output_type": "stream",
          "name": "stdout",
          "text": [
            "27\n",
            "[[ 0  3  8 12 15 17 20 13 18 20 23 22 20 21 21 23 26 22 25 28 29]\n",
            " [ 2  0  4 10 12 14 17  8 16 16 20 20 15 17 18 18 24 17 23 25 25]\n",
            " [ 8  4  0  2  5 10 10  3 10 11 15 12 11 14 11 14 19 13 15 20 21]\n",
            " [10 10  2  0  3  5  7  1  5  6  9  8  7  7 10 12 12 11 12 15 16]\n",
            " [14 12  4  4  0  2  6  3  1  3  6  6  5  4  5  7 10  5  9 14 13]\n",
            " [18 12  9  4  1  0  4  2  2  2  7  5  4  3  2  4  8  3  6  9 12]\n",
            " [20 16  8  7  5  2  0  7  1  1  4  2  1  1  1  1  4  2  3  9 10]\n",
            " [11  6  3  2  4  3  6  0  3  6  9  8  7  9  9 11 13  7 12 13 16]\n",
            " [19 16  9  5  1  3  1  2  0  3  6  3  1  4  4  5  6  5  7 10 12]\n",
            " [19 15  9  6  1  1  1  7  1  0  1  3  1  1  2  3  6  1  3  9 10]\n",
            " [23 20 16  7  4  8  5  7  5  2  0  2  3  3  2  1  3  1  3  4  5]\n",
            " [21 19 12  7  5  4  2  7  1  2  1  0  1  1  2  2  2  1  4  5  7]\n",
            " [19 14 11  6  6  2  2  6  1  2  1  2  0  1  1  2  4  3  6  6  7]\n",
            " [20 15 15  5  2  3  1  8  3  2  1  2  2  0  1  1  3  1  4  8  9]\n",
            " [22 18 10  8  4  2  1  9  3  1  3  1  1  2  0  3  6  1  3  6  6]\n",
            " [22 16 15 12  8  2  1 11  5  3  2  3  1  1  1  0  4  1  1  6  4]\n",
            " [26 25 20 13 11  8  2 12  5  6  3  1  4  4  5  4  0  4  1  2  3]\n",
            " [22 16 13 10  6  2  1  5  5  2  2  2  1  2  2  2  4  0  3  4  8]\n",
            " [26 22 13 13  8  6  3 13  6  4  4  2  6  4  3  2  2  3  0  3  3]\n",
            " [27 23 19 13 15  8  8 13 11 10  5  4  6  7  5  4  3  2  3  0  2]\n",
            " [28 26 22 17 13 13 10 14 12 10  3  7  7  9  4  5  2  6  2  3  0]]\n",
            "--- 0.10705995559692383 seconds ---\n"
          ]
        }
      ],
      "execution_count": 7,
      "metadata": {
        "colab": {},
        "colab_type": "code",
        "id": "H1lFkJPJBcR3"
      }
    },
    {
      "cell_type": "code",
      "source": [
        "#test 2 -------------- OPT. SOL. = 30\n",
        "start_time = time.time()\n",
        "places=[0, 1, 4, 9, 20, 18, 16, 5, 13, 19]\n",
        "sol = bfs(graph=graph, places=places)\n",
        "print(sol.g)\n",
        "print(\"--- %s seconds ---\" % (time.time() - start_time))"
      ],
      "outputs": [
        {
          "output_type": "stream",
          "name": "stdout",
          "text": [
            "30\n",
            "--- 43.761394739151 seconds ---\n"
          ]
        }
      ],
      "execution_count": 6,
      "metadata": {
        "colab": {},
        "colab_type": "code",
        "id": "Yn9mUPhBB9hv"
      }
    },
    {
      "cell_type": "code",
      "source": [
        "#test 3 -------------- OPT. SOL. = 26\n",
        "start_time = time.time()\n",
        "places=[0, 2, 7, 13, 11, 16, 15, 7, 9, 8, 4]\n",
        "sol = bfs(graph=graph, places=places)\n",
        "print(sol.g)\n",
        "print(\"--- %s seconds ---\" % (time.time() - start_time))"
      ],
      "outputs": [
        {
          "output_type": "stream",
          "name": "stdout",
          "text": [
            "26\n",
            "--- 319.4595263004303 seconds ---\n"
          ]
        }
      ],
      "execution_count": 45,
      "metadata": {}
    },
    {
      "cell_type": "markdown",
      "source": [
        "## 2. RECHERCHE GUIDÉE À L’AIDE DE L’ALGORITHME A\\* (7.5 points)\n",
        "Pour notre deuxième méthode de recherche, au lieu d’énumérer toutes les solutions possibles, nous effectuons une recherche guidée à l’aide de l’algorithme A\\*. Comme vu en classe, A\\* est une recherche où les nœuds à explorer sont priorisés en fonction du coût courant d’une solution $g(S)$ ainsi que d’une estimation du coût restant vers la solution finale donné par une heuristique $h(S)$.\n",
        "\n",
        "Dans le cas d’une minimisation, $h(S)$ est une borne inférieure du coût réel restant et on priorise l’exploration des nœuds dont $f(S) = g(S)+h(S)$ est le plus petit. Avec cette méthode, la première solution complète trouvée est assurément la solution optimale.\n",
        "\n",
        "Pour une solution donnée $S$ avec un dernier sommet visité $c$, une possible fonction $h$ est telle que :\n",
        "\n",
        "$h(S) =$ Le poids du chemin le plus court entre $c$ et $p_m$ dans le sous graphe $G_S$ contenant les sommets $P\\backslash V(S) \\cup \\{c\\}$\n",
        "\n",
        "Remarque que ce chemin le plus court utilisé dans le calcul de l’estimation $h$ entre l’attraction courante et l’arrivée ne passera pas nécessairement pas tous les sommets restants.\n",
        "\n\n",
        "Notre algorithme A\\* se présente comme ceci :\n",
        "1. Définir l’arbre de recherche $\\mathcal{T}$ exactement comme auparavant. Le calcul de $h$ pour la solution initiale est inutile : c’est la seule solution qu’on a.\n",
        "2. Sélectionner le meilleur nœud candidat pour expansion. La solution partielle $S_b$ de ce nœud candidat est telle que :\n",
        "\n",
        "   $$ f(S_b) \\leq f(S) \\quad \\forall S \\in \\mathcal{T} \\qquad S_B, S \\text{ pas encore sélectionnés}$$\n",
        "\n",
        "   Si $S_b$ est une solution complète, l’algorithme s’arrête et $S_b$ est assurément la solution optimale, sinon on continue à l’étape 3.\n",
        "3. Créer des solutions subséquentes qui connectent la dernière attraction visitée à chacune des attractions restantes. Attention, on ignore l’arrivée tant que celle-ci n’est pas la seule qui reste.\n",
        " - Mettez à jour les listes des sommets visités et non visités\n",
        " - Calculez $g$ et $h$ pour chaque solution\n",
        " - Insérer la nouvelle solution partielle dans l’arbre.\n",
        "4. Répéter 2 et 3.\n",
        "\n\n",
        "### 2.1 Code\n",
        "Commençons d’abord par compléter la classe $\\texttt{Solution}$ pour prendre en compte les changements nécessaires à A\\* (on a besoin notamment d’un attribut supplémentaire pour l’estimation $h$).\n",
        "\n",
        "On verra plus tard que A\\* s’implante à l’aide d’une file de priorité (priority queue). Pour que celle-ci marche, il est nécessaire de surcharger (overload) l’opérateur de comparaison « < » relatif à nos objets $\\texttt{Solution}$. En sachant ce qui fait qu'une solution est meilleure qu’une autre pour l'exploration, implanter la méthode $\\_\\_\\texttt{lt}\\_\\_$ dans $\\texttt{Solution}$. Son prototype est $\\_\\_\\texttt{lt}\\_\\_\\texttt{(self, other)}$.\n",
        "\n",
        "Maintenant, nous devons implanter la fonction d’estimation $h$. Pour cela, on utilise l’[algorithme de Dijkstra](https://en.wikipedia.org/wiki/Dijkstra%27s_algorithm) pour trouver le chemin le plus court entre la dernière attraction visitée $c$ et l’arrivée $p_m$. Il est possible d’adapter cet algorithme pour qu’il s’arrête dès que le chemin le plus court entre c et pm est trouvé.\n",
        "\n",
        "**Prescriptions d’implantation :**\n",
        "- Appliquer Dijkstra pour trouver le chemin le plus court entre $c$ et $p_m$\n",
        "- Retourner le poids de ce chemin"
      ],
      "metadata": {}
    },
    {
      "cell_type": "code",
      "source": [
        "def fastest_path_estimation(sol):\n",
        "    \"\"\"\n",
        "    Returns the time spent on the fastest path between \n",
        "    the current vertex c and the ending vertex pm\n",
        "    \"\"\"\n",
        "    c = sol.visited[-1]\n",
        "    tempDistances = [10000]*len(sol.not_visited)\n",
        "    pm = c\n",
        "    traveledDistance = 0\n",
        "    while(pm != sol.not_visited[-1]) : \n",
        "        for i in range(len(tempDistances)) : \n",
        "            if(tempDistances[i] != -1 and sol.graph[pm][sol.not_visited[i]]+traveledDistance<tempDistances[i]) :\n",
        "                tempDistances[i] = sol.graph[pm][sol.not_visited[i]]+traveledDistance\n",
        "        pm = sol.not_visited.index(min(tempDistances))\n",
        "        traveledDistance = tempDistances[tempDistances.index(min(tempDistances))]\n",
        "        tempDistances[tempDistances.index(min(tempDistances))] = -1\n",
        "            \n",
        "    return traveledDistance"
      ],
      "outputs": [],
      "execution_count": 13,
      "metadata": {
        "colab": {},
        "colab_type": "code",
        "id": "PxRTHhZmNEOB"
      }
    },
    {
      "cell_type": "markdown",
      "source": [
        "Finalement, il est temps d’implanter A\\*. On aura besoin d’une file de priorité qui retournera toujours le meilleur nœud candidat de $\\mathcal{T}$ pour l’étendre (l’opérateur surchargé de comparaison assure cela).\n",
        "\n",
        "**Prescriptions d’implantation (cf. détail des étapes de l’algorithme plus haut) :**\n",
        "- Tant que les solutions extraites de la file de priorité ne sont pas complètes :\n",
        "  *\tSélectionner et étendre le nœud extrait de la file comme détaillé plus haut\n",
        "  * Calculer $g$ et $h$ pour chaque nouvelle solution partielle obtenue\n",
        "  * Remettre ces solutions dans la file\n",
        "- Retourner la première solution complète extraite de la file (c’est la solution optimale)"
      ],
      "metadata": {
        "colab_type": "text",
        "id": "9pjLMOpju-a9"
      }
    },
    {
      "cell_type": "code",
      "source": [
        "import heapq\n",
        "\n",
        "def A_star(graph, places):\n",
        "    \"\"\"\n",
        "    Performs the A* algorithm\n",
        "    \"\"\"\n",
        "\n",
        "    # blank solution\n",
        "    root = Solution(graph=graph, places=places)\n",
        "\n",
        "    # search tree T\n",
        "    T = []\n",
        "    heapq.heapify(T)\n",
        "    heapq.heappush(T, root)"
      ],
      "outputs": [],
      "execution_count": null,
      "metadata": {
        "colab": {},
        "colab_type": "code",
        "id": "D6e45uNMvanU"
      }
    },
    {
      "cell_type": "markdown",
      "source": [
        "### 2.2 Expérimentations\n",
        "\nOn ajoute un Quatrième exemple d’exécution avec 15 attractions. Là encore, mettez en œuvre ces expériences avec le nouvel algorithme A\\* conçu et notez le nombre de nœuds explorés ainsi que le temps de calcul requis."
      ],
      "metadata": {
        "colab_type": "text",
        "id": "T2NhBa4GsoAP"
      }
    },
    {
      "cell_type": "code",
      "source": [
        "#test 1  --------------  OPT. SOL. = 27\n",
        "start_time = time.time()\n",
        "places=[0, 5, 13, 16, 6, 9, 4]\n",
        "astar_sol = A_star(graph=graph, places=places)\n",
        "print(astar_sol.g)\n",
        "print(astar_sol.visited)\n",
        "print(\"--- %s seconds ---\" % (time.time() - start_time))"
      ],
      "outputs": [],
      "execution_count": null,
      "metadata": {
        "colab": {},
        "colab_type": "code",
        "id": "H1lFkJPJBcR3"
      }
    },
    {
      "cell_type": "code",
      "source": [
        "#test 2  --------------  OPT. SOL. = 30\n",
        "start_time = time.time()\n",
        "places=[0, 1, 4, 9, 20, 18, 16, 5, 13, 19]\n",
        "astar_sol = A_star(graph=graph, places=places)\n",
        "print(astar_sol.g)\n",
        "print(astar_sol.visited)\n",
        "print(\"--- %s seconds ---\" % (time.time() - start_time))"
      ],
      "outputs": [],
      "execution_count": null,
      "metadata": {
        "colab": {},
        "colab_type": "code",
        "id": "Yn9mUPhBB9hv"
      }
    },
    {
      "cell_type": "code",
      "source": [
        "#test 3  --------------  OPT. SOL. = 26\n",
        "start_time = time.time()\n",
        "places=[0, 2, 7, 13, 11, 16, 15, 7, 9, 8, 4]\n",
        "astar_sol = A_star(graph=graph, places=places)\n",
        "print(astar_sol.g)\n",
        "print(astar_sol.visited)\n",
        "print(\"--- %s seconds ---\" % (time.time() - start_time))"
      ],
      "outputs": [],
      "execution_count": null,
      "metadata": {
        "colab": {},
        "colab_type": "code",
        "id": "ZX5SD5CRBfKg"
      }
    },
    {
      "cell_type": "code",
      "source": [
        "#test 4  --------------  OPT. SOL. = 40\n",
        "start_time = time.time()\n",
        "places=[0, 2, 20, 3, 18, 12, 13, 5, 11, 16, 15, 4, 9, 14, 1]\n",
        "astar_sol = A_star(graph=graph, places=places)\n",
        "print(astar_sol.g)\n",
        "print(astar_sol.visited)\n",
        "print(\"--- %s seconds ---\" % (time.time() - start_time))"
      ],
      "outputs": [],
      "execution_count": null,
      "metadata": {}
    },
    {
      "cell_type": "markdown",
      "source": [
        "### 2.3 Une meilleure borne inférieure\n",
        "\n",
        "Notre algorithme A\\* est déjà beaucoup plus efficace qu’une recherche naïve. Cependant, la qualité de l’heuristique $h$ a un très grand impact sur la vitesse de A\\*. Une heuristique plus serrée devrait accélérer A\\* de façon significative. Notre estimation $h$ basée sur Dijkstra est très large à cause du fait qu’elle ne considère pas toutes les attractions restantes.\n",
        "\n",
        "Une meilleure heuristique pourrait être basée sur la **Spanning Arborescence of Minimum Weight** qui s’apparente à une Minimum Spanning Tree pour graphes orientés. On propose de construire une telle Spanning Arborescence sur le reste des attractions $P\\backslash V(S) \\cup \\{c\\}$. Ici la racine est la dernière attraction visitée $c$. Une façon classique de résoudre ce problème est d’utiliser l’[algorithme de Edmonds](https://en.wikipedia.org/wiki/Edmonds%27_algorithm).\n",
        "\nImplantez cet algorithme et refaites les expériences avec A\\* en utilisant cette nouvelle heuristique :"
      ],
      "metadata": {}
    },
    {
      "cell_type": "code",
      "source": [
        "def minimum_spanning_arborescence(sol):\n",
        "    \"\"\"\n",
        "    Returns the cost to reach the vertices in the unvisited list \n",
        "    \"\"\""
      ],
      "outputs": [],
      "execution_count": null,
      "metadata": {}
    },
    {
      "cell_type": "markdown",
      "source": [
        "## 3. RECHERCHE LOCALE À VOISINAGE VARIABLE  (7.5 points)\n",
        "\n",
        "Cette fois-ci, au lieu de construire une solution optimale depuis une solution vide, on commence d’une solution complète, non-optimale, qu’on améliore à l’aide d’une recherche locale en utilisant une recherche locale à voisinage variable ([Variable Neighborhood Search](https://en.wikipedia.org/wiki/Variable_neighborhood_search), VNS).\n",
        "\n",
        "<img src=\"images/vns.png\" alt=\"\" width=\"800\"/>\n",
        "\n",
        "### 3.1 Code\n",
        "\n",
        "On commence par créer une solution initiale. Celle-ci est une suite ordonnée des attractions de $p_1$ à $p_m$ dans $P$. Pour cela, on fait appel à une [recherche en profondeur (Depth-First Search, DFS)](https://moodle.polymtl.ca/pluginfile.php/445484/mod_resource/content/1/recherche_en_profondeur.mp4) qu’on arrête aussitôt qu’une solution complète est trouvée. Pour aider à diversifier la recherche, la méthode permettant de générer une solution initiale peut être randomisée de telle sorte que l'algorithme VNS puisse lancer la recherche dans différentes régions de l'espace solution. Ainsi, dans la fonction DFS, la sélection de l'enfant pour continuer la recherche doit être aléatoire.\n",
        "\n",
        "**Prescriptions d’implantation :**\n",
        "- Mettre en œuvre une recherche en profondeur\n",
        "- Créer un objet $\\texttt{Solution}$ relatif à cette solution\n",
        "- Ajuster les attributs de cet objet avec les bonnes valeurs de coûts et d’attractions visitées\n",
        "- Retourner la solution trouvée."
      ],
      "metadata": {
        "colab_type": "text",
        "id": "r9oJnFHbxrvj"
      }
    },
    {
      "cell_type": "code",
      "source": [
        "from random import shuffle, randint\n",
        "\n",
        "def initial_sol(graph, places):\n",
        "    \"\"\"\n",
        "    Return a completed initial solution\n",
        "    \"\"\"\n",
        "\n",
        "def dfs(...):\n",
        "    \"\"\"\n",
        "    Performs a Depth-First Search\n",
        "    \"\"\""
      ],
      "outputs": [],
      "execution_count": null,
      "metadata": {
        "colab": {},
        "colab_type": "code",
        "id": "JKx9Z-ayxzSw"
      }
    },
    {
      "cell_type": "markdown",
      "source": [
        "Pour définir une VNS, il faut définir les $k_\\textrm{max}$ voisinages de recherche locale possibles. Pour notre problème, une bonne et simple répartition des voisinages est telle qu’un voisinage $k$ correspond à la permutation de $k$-paires de sommets dans $V(S)$.\n",
        "\n",
        "On appelle **shaking** l’étape de génération d’une solution dans le voisinage $k$. Le travail qui suit correspond à l’implantation de cette étape. $\\texttt{shaking}$ admet 3 arguments que sont la solution de départ, l’indice du voisinage $k$ ainsi que le graph courant.\n",
        "\n",
        "Attention, avant d’implanter $\\texttt{shaking}$, il est nécessaire de créer une méthode $\\texttt{swap}$ dans la classe $\\texttt{Solution}$. Cette méthode permet de mettre en œuvre la permutation dans une solution donnée (en mettant à jour tous les attributs nécessaires pour que la solution soit cohérente).\n",
        "\n",
        "**Prescriptions d’implantation de shaking :**\n",
        "- Sélectionner au hasard deux indices $i$ et $j$ différents et tels que $i, j \\in \\{2,...,m-1\\}$\n",
        "- Faire une copie de la solution courante et faire la permutation\n",
        "- Retourner la solution créée"
      ],
      "metadata": {
        "colab_type": "text",
        "id": "JnTFBFqvXpNz"
      }
    },
    {
      "cell_type": "code",
      "source": [
        "def shaking(sol, k):\n",
        "    \"\"\"\n",
        "    Returns a solution on the k-th neighrboohood of sol\n",
        "    \"\"\""
      ],
      "outputs": [],
      "execution_count": null,
      "metadata": {
        "colab": {},
        "colab_type": "code",
        "id": "EWLAhZUlfFOZ"
      }
    },
    {
      "cell_type": "markdown",
      "source": [
        "Une dernière étape essentielle dans une VNS est l’application d’un algorithme de recherche locale à la solution issue du shaking. Pour cela, on propose la recherche locale 2-opt. Celle-ci intervertit deux arcs dans la solution, à la recherche d’une qui est meilleure.\n",
        "\n",
        "Pour un sommet $ i $, soit $ i '$ le successeur immédiat de $ i $ dans la séquence $ V (S) $. L'algorithme 2-opt fonctionne comme suit: pour chaque paire de sommets non consécutifs $ i, j $, vérifiez si en échangeant la position des sommets $ i '$ et $ j $ entraîne une amélioration du coût de la solution. Si oui, effectuez cet échange. Ce processus se répète jusqu'à ce qu'il n'y ait plus d'échanges rentables. On réalise cette opération pour toutes les paires d’arcs éligibles à la recherche du plus petit coût.\n",
        "\n",
        "<img src=\"images/2opt.png\" alt=\"\" width=\"800\"/>\n",
        "\n",
        "<img src=\"images/2opt2.png\" alt=\"\" width=\"800\"/>\n",
        "\n\n",
        "Implantez $\\texttt{local}\\_\\texttt{search}\\_\\texttt{2opt}$. \n",
        "\n",
        "**Prescriptions d’implantation :**\n",
        "- Considérer chaque paire d’indices $i = \\{2,..,m-3\\}$ and $j = \\{i+2, m-1\\}$\n",
        "- Si l’échange donne un plus bas coût, on le réalise\n",
        "- Répéter jusqu’à optimum local."
      ],
      "metadata": {
        "colab_type": "text",
        "id": "PD_PxV54sl1o"
      }
    },
    {
      "cell_type": "code",
      "source": [
        "def local_search_2opt(sol):\n",
        "    \"\"\"\n",
        "    Apply 2-opt local search over sol\n",
        "    \"\"\"\n"
      ],
      "outputs": [],
      "execution_count": null,
      "metadata": {
        "colab": {},
        "colab_type": "code",
        "id": "_97d-BQV8tzt"
      }
    },
    {
      "cell_type": "markdown",
      "source": [
        "Finalement, il est temps d'implanter notre VNS. La méthode $\\texttt{vns}$ reçoit une solution complète, le graphe courant, le nombre maximal de voisinages et un temps de calcul limite. Celle-ci retourne la solution optimale trouvée\n",
        "\n",
        "**Prescriptions d’implantation :**\n",
        "- À chaque itération, la VNS génère une solution dans le k-ème voisinage (shaking) à partir de la meilleure solution courante et applique une recherche locale 2-opt dessus\n",
        "- Si la nouvelle solution trouvée a un meilleur coût, mettre à jour la meilleure solution courante\n",
        "- Répéter le processus jusqu'à $\\texttt{t}\\_\\texttt{max}$"
      ],
      "metadata": {
        "colab_type": "text",
        "id": "ZPG90m1g_HgA"
      }
    },
    {
      "cell_type": "code",
      "source": [
        "def vns(sol, k_max, t_max):\n",
        "    \"\"\"\n",
        "    Performs the VNS algorithm\n",
        "    \"\"\""
      ],
      "outputs": [],
      "execution_count": null,
      "metadata": {
        "colab": {},
        "colab_type": "code",
        "id": "ZQwCN2HB_m-q"
      }
    },
    {
      "cell_type": "markdown",
      "source": [
        "### 3.2 Experiments\n",
        "\nMettez en oeuvre la VNS sur les exemples d'illustration suivants et raportez les solutions obtenue:"
      ],
      "metadata": {
        "colab_type": "text",
        "id": "z5TPMN2XCkPc"
      }
    },
    {
      "cell_type": "code",
      "source": [
        "# test 1  --------------  OPT. SOL. = 27\n",
        "places=[0, 5, 13, 16, 6, 9, 4]\n",
        "sol = initial_sol(graph=graph, places=places)\n",
        "start_time = time.time()\n",
        "vns_sol = vns(sol=sol, k_max=10, t_max=1)\n",
        "print(vns_sol.g)\n",
        "print(vns_sol.visited)\n",
        "print(\"--- %s seconds ---\" % (time.time() - start_time))"
      ],
      "outputs": [],
      "execution_count": null,
      "metadata": {
        "colab": {},
        "colab_type": "code",
        "id": "Ox0PScj5CTzq"
      }
    },
    {
      "cell_type": "code",
      "source": [
        "#test 2  --------------  OPT. SOL. = 30\n",
        "places=[0, 1, 4, 9, 20, 18, 16, 5, 13, 19]\n",
        "sol = initial_sol(graph=graph, places=places)\n",
        "\n",
        "start_time = time.time()\n",
        "vns_sol = vns(sol=sol, k_max=10, t_max=1)\n",
        "print(vns_sol.g)\n",
        "print(vns_sol.visited)\n",
        "\nprint(\"--- %s seconds ---\" % (time.time() - start_time))"
      ],
      "outputs": [],
      "execution_count": null,
      "metadata": {
        "colab": {},
        "colab_type": "code",
        "id": "a5IB2FbqCTz3"
      }
    },
    {
      "cell_type": "code",
      "source": [
        "# test 3  --------------  OPT. SOL. = 26\n",
        "places=[0, 2, 7, 13, 11, 16, 15, 7, 9, 8, 4]\n",
        "sol = initial_sol(graph=graph, places=places)\n",
        "\n",
        "start_time = time.time()\n",
        "vns_sol = vns(sol=sol, k_max=10, t_max=1)\n",
        "print(vns_sol.g)\n",
        "print(vns_sol.visited)\n",
        "print(\"--- %s seconds ---\" % (time.time() - start_time))"
      ],
      "outputs": [],
      "execution_count": null,
      "metadata": {
        "colab": {},
        "colab_type": "code",
        "id": "nkNwTmxPCTz9"
      }
    },
    {
      "cell_type": "code",
      "source": [
        "# test 4  --------------  OPT. SOL. = 40\n",
        "places=[0, 2, 20, 3, 18, 12, 13, 5, 11, 16, 15, 4, 9, 14, 1]\n",
        "sol = initial_sol(graph=graph, places=places)\n",
        "\n",
        "start_time = time.time()\n",
        "vns_sol = vns(sol=sol, k_max=10, t_max=1)\n",
        "print(vns_sol.g)\n",
        "print(vns_sol.visited)\n",
        "print(\"--- %s seconds ---\" % (time.time() - start_time))"
      ],
      "outputs": [],
      "execution_count": null,
      "metadata": {}
    },
    {
      "cell_type": "markdown",
      "source": [
        "## 4. BONUS (1 point)\n",
        "\nExpliquez dans quelle situation chacun des algorithmes développés est plus approprié (prenez en compte l’évolutivité du problème)"
      ],
      "metadata": {}
    },
    {
      "cell_type": "code",
      "source": [],
      "outputs": [],
      "execution_count": null,
      "metadata": {}
    }
  ],
  "metadata": {
    "colab": {
      "name": "tp1_2018.ipynb",
      "provenance": [],
      "version": "0.3.2"
    },
    "kernelspec": {
      "name": "python3",
      "language": "python",
      "display_name": "Python 3"
    },
    "language_info": {
      "name": "python",
      "version": "3.7.0",
      "mimetype": "text/x-python",
      "codemirror_mode": {
        "name": "ipython",
        "version": 3
      },
      "pygments_lexer": "ipython3",
      "nbconvert_exporter": "python",
      "file_extension": ".py"
    },
    "kernel_info": {
      "name": "python3"
    },
    "nteract": {
      "version": "0.11.7"
    }
  },
  "nbformat": 4,
  "nbformat_minor": 1
}