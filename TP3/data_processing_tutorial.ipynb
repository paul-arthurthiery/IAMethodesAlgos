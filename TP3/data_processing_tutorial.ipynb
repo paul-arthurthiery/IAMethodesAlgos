{
 "cells": [
  {
   "cell_type": "markdown",
   "metadata": {},
   "source": [
    "# INF 8215 - Intelligence artif.: méthodes et algorithmes \n",
    "## Automne 2018 - TP3 - Machine Learning\n",
    "## Data processing tutorial with pandas and scikit-learn"
   ]
  },
  {
   "cell_type": "markdown",
   "metadata": {},
   "source": [
    "## Déroulement du pré-traitement des données\n",
    "\n",
    "Le but de la suite de ce TP est de vous faire une version simplifiée d'un projet complet de machine learning:\n",
    "\n",
    "1. Nettoyage des données, traitement des valeurs manquantes\n",
    "2. Mise en forme des données pour pouvoir les utiliser dans les algorithmes de machine learning\n",
    "3. Feature engineering transformation ou combinaisons de features entre elles\n",
    "4. Comparaison des performances des différents choix effectués lors du traitement des données\n",
    "\n",
    "\n",
    "## Scikit-learn\n",
    "http://scikit-learn.org/stable/\n",
    "\n",
    "Il s'agit d'une bibliothèque de machine learning et data mining, elle propose des outils pour l'analyse et le traitement des données,  des algorithmes classiques de machine learning comme les réseaux de neuronnes, la régression logistique, les SVM ou autre, enfin des outils permettant de comparer les modèles entre eux comme la cross validation.\n",
    "\n",
    "## Pandas\n",
    "\n",
    "Une bibliothèque permettant de stocker des données et de les manipuler facilement\n",
    "\n",
    "Les deux éléments de base de pandas sont le dataframe et la serie.\n",
    "\n",
    "https://pandas.pydata.org/pandas-docs/version/0.23/generated/pandas.DataFrame.html\n",
    "\n",
    "#### Quelques commandes utiles\n",
    "\n",
    "Soit **df** un DataFrame\n",
    "* **pd.read_csv(filename)** permet de charger les données depuis un csv\n",
    "* **df.head()** permet d'afficher les 5 premières lignes d'un dataframe\n",
    "* **df.info()** permet d'afficher des informations par colonne du dataframe\n",
    "* **df = pd.DataFrame(data, columns = [name1,...,namen])** permet de créer un DataFrame en spécifiant le nom des colonnes\n",
    "* ** df = df.drop(columns = [name1,...,namen])** permet de supprimer les colonnes dont le nom est mentionné dans le tableau\n",
    "* ** df = pd.concat([df1,df2], axis = 1)** permet de concatener deux dataset dans le sens des colonnes\n",
    "\n",
    "* **df = df.astype(float)** permet de transformer le type des données du dataframe en float\n",
    "\n",
    "* ** df.corr()** permet d'obtenir la matrice de corrélation d'un dataframe colonne par colonne"
   ]
  },
  {
   "cell_type": "markdown",
   "metadata": {},
   "source": [
    "## Data leakage\n",
    "\n",
    "Comme mentionné dans la partie **train/test set**, quand on transforme les données, il faut apprendre les transformations sur l'ensemble d'entraînement et pas sur l'ensemble de test.\n",
    "\n",
    "Par exemple, admettons que l'on veuille appliquer du **one-hot-encoding** sur une **feature** de type **catégorique** (ensemble de valeurs discrètes).\n",
    "\n",
    "Si quand on applique l'algorithme sur l'ensemble de test, on tombe sur une nouvelle catégorie qui n'était pas dans l'ensemble d'entraînement, il ne faut pas créer une nouvelle catégorie dans l'algorithme de **one-hot-encoding**. Sinon le **pipeline** d'entraînement dispose de données sur l'ensemble de test, c'est la **fuite de données** ou **data leakage**\n",
    "\n",
    "Une solution est d'avoir au préalable ajouté une classe \"inconnue\" lors de l'entraînement."
   ]
  },
  {
   "cell_type": "markdown",
   "metadata": {},
   "source": [
    "## Types de features et transformations usuelles associées avec sklearn"
   ]
  },
  {
   "cell_type": "markdown",
   "metadata": {},
   "source": [
    "Pour présenter les transformations usuelles avec sklearn, nous allons utiliser un exemple basique. Créons un DataFrame, contenant trois features(colonnes):\n",
    "* Une catégorique textuelle (un ensemble discret de valeurs discrètes sous forme de texte)\n",
    "* Une catégorique numérique ( un ensemble discret de valeurs entières)\n",
    "* Deux numériques continues ( n'importe quel nombre réel)"
   ]
  },
  {
   "cell_type": "code",
   "execution_count": 1,
   "metadata": {},
   "outputs": [],
   "source": [
    "import numpy as np\n",
    "import pandas as pd\n",
    "\n",
    "toy_data = [[\"certainly yes\",1,np.nan,2153.5],\n",
    "            [\"maybe yes\",1,0.5,5361.2],\n",
    "            [\"certainly no\",3,6.3,6945.3],\n",
    "            [np.nan,2,2.1,3215.2],\n",
    "            [\"certainly yes\",np.nan,0.12,9856.1],\n",
    "            [\"maybe yes\",1,6.9,4561.2],\n",
    "            [\"maybe no\",np.nan,13.0,9453.7],\n",
    "            [\"certainly yes\",np.nan,0.23,3125.0],\n",
    "            [\"maybe yes\",3,5.2,2547.4,],\n",
    "            [\"maybe no\",np.nan,2.0,np.nan],\n",
    "           ]\n",
    "column_names = [\"textual\",\"categorical\",\"numerical_small\",\"numerical_high\"]\n",
    "toy_dataframe = pd.DataFrame(toy_data, columns = column_names)"
   ]
  },
  {
   "cell_type": "markdown",
   "metadata": {},
   "source": [
    "##### Séparation en ensemble d'entraînement et de test"
   ]
  },
  {
   "cell_type": "code",
   "execution_count": 2,
   "metadata": {},
   "outputs": [],
   "source": [
    "from sklearn.model_selection import train_test_split\n",
    "toy_train, toy_test= train_test_split(toy_dataframe, test_size=0.2, random_state=42)\n",
    "toy_train,toy_test = toy_train.reset_index(drop = True), toy_test.reset_index(drop = True)"
   ]
  },
  {
   "cell_type": "code",
   "execution_count": 3,
   "metadata": {},
   "outputs": [
    {
     "data": {
      "text/html": [
       "<div>\n",
       "<style scoped>\n",
       "    .dataframe tbody tr th:only-of-type {\n",
       "        vertical-align: middle;\n",
       "    }\n",
       "\n",
       "    .dataframe tbody tr th {\n",
       "        vertical-align: top;\n",
       "    }\n",
       "\n",
       "    .dataframe thead th {\n",
       "        text-align: right;\n",
       "    }\n",
       "</style>\n",
       "<table border=\"1\" class=\"dataframe\">\n",
       "  <thead>\n",
       "    <tr style=\"text-align: right;\">\n",
       "      <th></th>\n",
       "      <th>textual</th>\n",
       "      <th>categorical</th>\n",
       "      <th>numerical_small</th>\n",
       "      <th>numerical_high</th>\n",
       "    </tr>\n",
       "  </thead>\n",
       "  <tbody>\n",
       "    <tr>\n",
       "      <th>0</th>\n",
       "      <td>maybe yes</td>\n",
       "      <td>1.0</td>\n",
       "      <td>6.90</td>\n",
       "      <td>4561.2</td>\n",
       "    </tr>\n",
       "    <tr>\n",
       "      <th>1</th>\n",
       "      <td>certainly yes</td>\n",
       "      <td>1.0</td>\n",
       "      <td>NaN</td>\n",
       "      <td>2153.5</td>\n",
       "    </tr>\n",
       "    <tr>\n",
       "      <th>2</th>\n",
       "      <td>certainly yes</td>\n",
       "      <td>NaN</td>\n",
       "      <td>0.23</td>\n",
       "      <td>3125.0</td>\n",
       "    </tr>\n",
       "    <tr>\n",
       "      <th>3</th>\n",
       "      <td>certainly no</td>\n",
       "      <td>3.0</td>\n",
       "      <td>6.30</td>\n",
       "      <td>6945.3</td>\n",
       "    </tr>\n",
       "    <tr>\n",
       "      <th>4</th>\n",
       "      <td>maybe no</td>\n",
       "      <td>NaN</td>\n",
       "      <td>2.00</td>\n",
       "      <td>NaN</td>\n",
       "    </tr>\n",
       "    <tr>\n",
       "      <th>5</th>\n",
       "      <td>certainly yes</td>\n",
       "      <td>NaN</td>\n",
       "      <td>0.12</td>\n",
       "      <td>9856.1</td>\n",
       "    </tr>\n",
       "    <tr>\n",
       "      <th>6</th>\n",
       "      <td>NaN</td>\n",
       "      <td>2.0</td>\n",
       "      <td>2.10</td>\n",
       "      <td>3215.2</td>\n",
       "    </tr>\n",
       "    <tr>\n",
       "      <th>7</th>\n",
       "      <td>maybe no</td>\n",
       "      <td>NaN</td>\n",
       "      <td>13.00</td>\n",
       "      <td>9453.7</td>\n",
       "    </tr>\n",
       "  </tbody>\n",
       "</table>\n",
       "</div>"
      ],
      "text/plain": [
       "         textual  categorical  numerical_small  numerical_high\n",
       "0      maybe yes          1.0             6.90          4561.2\n",
       "1  certainly yes          1.0              NaN          2153.5\n",
       "2  certainly yes          NaN             0.23          3125.0\n",
       "3   certainly no          3.0             6.30          6945.3\n",
       "4       maybe no          NaN             2.00             NaN\n",
       "5  certainly yes          NaN             0.12          9856.1\n",
       "6            NaN          2.0             2.10          3215.2\n",
       "7       maybe no          NaN            13.00          9453.7"
      ]
     },
     "execution_count": 3,
     "metadata": {},
     "output_type": "execute_result"
    }
   ],
   "source": [
    "toy_train.head(10)"
   ]
  },
  {
   "cell_type": "code",
   "execution_count": 4,
   "metadata": {},
   "outputs": [
    {
     "name": "stdout",
     "output_type": "stream",
     "text": [
      "<class 'pandas.core.frame.DataFrame'>\n",
      "RangeIndex: 8 entries, 0 to 7\n",
      "Data columns (total 4 columns):\n",
      "textual            7 non-null object\n",
      "categorical        4 non-null float64\n",
      "numerical_small    7 non-null float64\n",
      "numerical_high     7 non-null float64\n",
      "dtypes: float64(3), object(1)\n",
      "memory usage: 328.0+ bytes\n"
     ]
    }
   ],
   "source": [
    "toy_train.info()"
   ]
  },
  {
   "cell_type": "markdown",
   "metadata": {},
   "source": [
    "Comme vous pouvez l'observer, ce dataframe n'est pas utilisable tel quel avec des algorithmes classiques de machine learning.\n",
    "Les principaux problèmes sont les suivants:\n",
    "* Les colonnes contiennent des valeurs nulles (NaN)\n",
    "* La première colonne est sous forme de texte\n",
    "* Les deux dernières colonnes sont non normalisées. \n",
    "* La deuxième colonne n'est pas encodée sous le format one-hot\n",
    "\n",
    "##### Importance de la normalisation\n",
    "La normalisation permet d'exprimer la colonne sous-forme d'une distribution normale centrée en 0 et de variance 1, c'est-à-dire des valeurs comprises entre -1 et 1. L'intérêt de réduire ainsi les features est de les mettre toutes **à la même échelle**. En effet, certains algorithmes de classification auront tendance à considérer la colonne **numerical_small** comme négligeable par rapport à la colonne **numerical_high**, et ainsi à l'**ignorer lors de l'apprentissage**.\n",
    "\n",
    "##### Importance du one-hot-encoding\n",
    "\n",
    "Une feature catégorique peut prendre un nombre restreint de valeurs entières. Par exemple la colonne **categorical** contient des valeurs dans l'ensemble [1,2,3].\n",
    "La sémantique derrière cette représentation est la suivante: à chaque exemple(ligne) du dataset, on associe une catégorie parmi les catégories possibles ([1,2,3]).\n",
    "\n",
    "Néanmoins, certains algorithmes de machine learning auront tendance à prendre en compte l'ordre numérique de ces catégories.\n",
    "C'est-à-dire prendre en compte le fait que 2 est après 1, alors que cette relation ne fait pas de sens dans ce cas là.\n",
    "Pour pallier à ce problème, on utilise le one-hot-encoding vu dans la première partie.\n",
    "\n",
    "Ainsi, on remplacera une feature catégorique pouvant prendre 3 valeurs différentes, par 3 features catégoriques pouvant prendre les valeurs 0 ou 1."
   ]
  },
  {
   "cell_type": "markdown",
   "metadata": {},
   "source": [
    "##### Valeurs manquantes\n",
    "Pour les valeurs manquantes, on peut utiliser l'objet SimpleImputer de sklearn.\n",
    "SimpleImputer est un objet de type **transformer**, il est munis de deux méthodes:\n",
    "* fit: permet d'apprendre la transformation à effectuer\n",
    "* transform: permet d'appliquer la transformation à effectuer\n",
    "* fit_transform: applique les deux méthodes précédentes à la suite\n",
    "\n",
    "**Remarque: pour éviter la fuite de donnée, on utilise fit_transfom sur l'ensemble d'entrainement et transform sur l'ensemble de test (cf l'exemple suivant **"
   ]
  },
  {
   "cell_type": "code",
   "execution_count": 5,
   "metadata": {},
   "outputs": [],
   "source": [
    "from sklearn.impute import SimpleImputer\n",
    "\n",
    "# Imputers initialisation\n",
    "textual_imputer = SimpleImputer(strategy = 'constant', fill_value = 'maybe yes')\n",
    "categorical_imputer = SimpleImputer(strategy = 'constant', fill_value = 1.0)\n",
    "small_imputer = SimpleImputer(strategy = 'mean')\n",
    "high_imputer = SimpleImputer(strategy = 'mean')"
   ]
  },
  {
   "cell_type": "code",
   "execution_count": 6,
   "metadata": {},
   "outputs": [],
   "source": [
    "#Train set\n",
    "toy_train[\"textual\"] = textual_imputer.fit_transform(toy_train[\"textual\"].values.reshape(-1,1))\n",
    "toy_train[\"categorical\"] = categorical_imputer.fit_transform(toy_train[\"categorical\"].values.reshape(-1,1))\n",
    "toy_train[\"numerical_small\"] = small_imputer.fit_transform(toy_train[\"numerical_small\"].values.reshape(-1,1))\n",
    "toy_train[\"numerical_high\"] = high_imputer.fit_transform(toy_train[\"numerical_high\"].values.reshape(-1,1))"
   ]
  },
  {
   "cell_type": "code",
   "execution_count": 7,
   "metadata": {},
   "outputs": [],
   "source": [
    "#Test set\n",
    "toy_test[\"textual\"] = textual_imputer.transform(toy_test[\"textual\"].values.reshape(-1,1))\n",
    "toy_test[\"categorical\"] = categorical_imputer.transform(toy_test[\"categorical\"].values.reshape(-1,1))\n",
    "toy_test[\"numerical_small\"] = small_imputer.transform(toy_test[\"numerical_small\"].values.reshape(-1,1))\n",
    "toy_test[\"numerical_high\"] = high_imputer.transform(toy_test[\"numerical_high\"].values.reshape(-1,1))"
   ]
  },
  {
   "cell_type": "code",
   "execution_count": 8,
   "metadata": {},
   "outputs": [
    {
     "data": {
      "text/html": [
       "<div>\n",
       "<style scoped>\n",
       "    .dataframe tbody tr th:only-of-type {\n",
       "        vertical-align: middle;\n",
       "    }\n",
       "\n",
       "    .dataframe tbody tr th {\n",
       "        vertical-align: top;\n",
       "    }\n",
       "\n",
       "    .dataframe thead th {\n",
       "        text-align: right;\n",
       "    }\n",
       "</style>\n",
       "<table border=\"1\" class=\"dataframe\">\n",
       "  <thead>\n",
       "    <tr style=\"text-align: right;\">\n",
       "      <th></th>\n",
       "      <th>textual</th>\n",
       "      <th>categorical</th>\n",
       "      <th>numerical_small</th>\n",
       "      <th>numerical_high</th>\n",
       "    </tr>\n",
       "  </thead>\n",
       "  <tbody>\n",
       "    <tr>\n",
       "      <th>0</th>\n",
       "      <td>maybe yes</td>\n",
       "      <td>1.0</td>\n",
       "      <td>6.900000</td>\n",
       "      <td>4561.200000</td>\n",
       "    </tr>\n",
       "    <tr>\n",
       "      <th>1</th>\n",
       "      <td>certainly yes</td>\n",
       "      <td>1.0</td>\n",
       "      <td>4.378571</td>\n",
       "      <td>2153.500000</td>\n",
       "    </tr>\n",
       "    <tr>\n",
       "      <th>2</th>\n",
       "      <td>certainly yes</td>\n",
       "      <td>1.0</td>\n",
       "      <td>0.230000</td>\n",
       "      <td>3125.000000</td>\n",
       "    </tr>\n",
       "    <tr>\n",
       "      <th>3</th>\n",
       "      <td>certainly no</td>\n",
       "      <td>3.0</td>\n",
       "      <td>6.300000</td>\n",
       "      <td>6945.300000</td>\n",
       "    </tr>\n",
       "    <tr>\n",
       "      <th>4</th>\n",
       "      <td>maybe no</td>\n",
       "      <td>1.0</td>\n",
       "      <td>2.000000</td>\n",
       "      <td>5615.714286</td>\n",
       "    </tr>\n",
       "  </tbody>\n",
       "</table>\n",
       "</div>"
      ],
      "text/plain": [
       "         textual  categorical  numerical_small  numerical_high\n",
       "0      maybe yes          1.0         6.900000     4561.200000\n",
       "1  certainly yes          1.0         4.378571     2153.500000\n",
       "2  certainly yes          1.0         0.230000     3125.000000\n",
       "3   certainly no          3.0         6.300000     6945.300000\n",
       "4       maybe no          1.0         2.000000     5615.714286"
      ]
     },
     "execution_count": 8,
     "metadata": {},
     "output_type": "execute_result"
    }
   ],
   "source": [
    "toy_train.head()"
   ]
  },
  {
   "cell_type": "markdown",
   "metadata": {},
   "source": [
    "#### Transformation des features"
   ]
  },
  {
   "cell_type": "markdown",
   "metadata": {},
   "source": [
    "##### Textual"
   ]
  },
  {
   "cell_type": "markdown",
   "metadata": {},
   "source": [
    "Cette commande pandas permet d'observer les différentes valeurs possibles pour une feature, ainsi que leur proportion"
   ]
  },
  {
   "cell_type": "code",
   "execution_count": 9,
   "metadata": {},
   "outputs": [
    {
     "data": {
      "text/plain": [
       "certainly yes    0.375\n",
       "maybe yes        0.250\n",
       "maybe no         0.250\n",
       "certainly no     0.125\n",
       "Name: textual, dtype: float64"
      ]
     },
     "execution_count": 9,
     "metadata": {},
     "output_type": "execute_result"
    }
   ],
   "source": [
    "(toy_train[\"textual\"].value_counts()/len(toy_train))[:10]"
   ]
  },
  {
   "cell_type": "markdown",
   "metadata": {},
   "source": [
    "En observant la distribution des valeurs prises par cette colonne, plusieurs décisions peuvent être prises:\n",
    "* Exprimer cette variable comme une variable catégorique pouvant prendre les valeurs [0,1,2,3].\n",
    "* Séparer la colonne en deux colonnes, **certain** et **positif** chacune pouvant prendre les valeurs [0,1].\n",
    "\n",
    "Dans le cadre de la démonstration, nous choisirons la deuxième option.\n",
    "\n",
    "Il est possible de définir nous-même des fonctions à appliquer sur une colonne. On utilise ensuite la méthode **apply** du dataframe combinée à l'utilisation de **lambda expression**."
   ]
  },
  {
   "cell_type": "code",
   "execution_count": 10,
   "metadata": {},
   "outputs": [],
   "source": [
    "#Custom functions\n",
    "def parse_certain(text):\n",
    "    certain, _ = text.split(\" \")\n",
    "    return certain\n",
    "\n",
    "def parse_positif(text):\n",
    "    _, positif = text.split(\" \")\n",
    "    return positif"
   ]
  },
  {
   "cell_type": "code",
   "execution_count": 11,
   "metadata": {},
   "outputs": [],
   "source": [
    "# Train set\n",
    "certain_train = toy_train.apply(lambda row: pd.Series(  parse_certain(row[\"textual\"])  ), axis = 1  )\n",
    "positif_train = toy_train.apply(lambda row: pd.Series(  parse_positif(row[\"textual\"])  ), axis = 1  )\n",
    "\n",
    "certain_train.columns = [\"certain\"]\n",
    "positif_train.columns = [\"positif\"]\n",
    "\n",
    "new_columns = pd.concat([certain_train,positif_train], axis = 1)\n",
    "toy_train = toy_train.drop(columns = [\"textual\"])\n",
    "toy_train = pd.concat([toy_train,pd.DataFrame(new_columns)], axis = 1)\n",
    "\n",
    "# Test set\n",
    "certain_test = toy_test.apply(lambda row: pd.Series(  parse_certain(row[\"textual\"])  ), axis = 1  )\n",
    "positif_test = toy_test.apply(lambda row: pd.Series(  parse_positif(row[\"textual\"])  ), axis = 1  )\n",
    "\n",
    "certain_test.columns = [\"certain\"]\n",
    "positif_test.columns = [\"positif\"]\n",
    "\n",
    "new_columns = pd.concat([certain_test,positif_test], axis = 1)\n",
    "toy_test = toy_test.drop(columns = [\"textual\"])\n",
    "toy_test = pd.concat([toy_test,pd.DataFrame(new_columns)], axis = 1)"
   ]
  },
  {
   "cell_type": "code",
   "execution_count": 12,
   "metadata": {},
   "outputs": [
    {
     "data": {
      "text/html": [
       "<div>\n",
       "<style scoped>\n",
       "    .dataframe tbody tr th:only-of-type {\n",
       "        vertical-align: middle;\n",
       "    }\n",
       "\n",
       "    .dataframe tbody tr th {\n",
       "        vertical-align: top;\n",
       "    }\n",
       "\n",
       "    .dataframe thead th {\n",
       "        text-align: right;\n",
       "    }\n",
       "</style>\n",
       "<table border=\"1\" class=\"dataframe\">\n",
       "  <thead>\n",
       "    <tr style=\"text-align: right;\">\n",
       "      <th></th>\n",
       "      <th>categorical</th>\n",
       "      <th>numerical_small</th>\n",
       "      <th>numerical_high</th>\n",
       "      <th>certain</th>\n",
       "      <th>positif</th>\n",
       "    </tr>\n",
       "  </thead>\n",
       "  <tbody>\n",
       "    <tr>\n",
       "      <th>0</th>\n",
       "      <td>1.0</td>\n",
       "      <td>6.900000</td>\n",
       "      <td>4561.200000</td>\n",
       "      <td>maybe</td>\n",
       "      <td>yes</td>\n",
       "    </tr>\n",
       "    <tr>\n",
       "      <th>1</th>\n",
       "      <td>1.0</td>\n",
       "      <td>4.378571</td>\n",
       "      <td>2153.500000</td>\n",
       "      <td>certainly</td>\n",
       "      <td>yes</td>\n",
       "    </tr>\n",
       "    <tr>\n",
       "      <th>2</th>\n",
       "      <td>1.0</td>\n",
       "      <td>0.230000</td>\n",
       "      <td>3125.000000</td>\n",
       "      <td>certainly</td>\n",
       "      <td>yes</td>\n",
       "    </tr>\n",
       "    <tr>\n",
       "      <th>3</th>\n",
       "      <td>3.0</td>\n",
       "      <td>6.300000</td>\n",
       "      <td>6945.300000</td>\n",
       "      <td>certainly</td>\n",
       "      <td>no</td>\n",
       "    </tr>\n",
       "    <tr>\n",
       "      <th>4</th>\n",
       "      <td>1.0</td>\n",
       "      <td>2.000000</td>\n",
       "      <td>5615.714286</td>\n",
       "      <td>maybe</td>\n",
       "      <td>no</td>\n",
       "    </tr>\n",
       "  </tbody>\n",
       "</table>\n",
       "</div>"
      ],
      "text/plain": [
       "   categorical  numerical_small  numerical_high    certain positif\n",
       "0          1.0         6.900000     4561.200000      maybe     yes\n",
       "1          1.0         4.378571     2153.500000  certainly     yes\n",
       "2          1.0         0.230000     3125.000000  certainly     yes\n",
       "3          3.0         6.300000     6945.300000  certainly      no\n",
       "4          1.0         2.000000     5615.714286      maybe      no"
      ]
     },
     "execution_count": 12,
     "metadata": {},
     "output_type": "execute_result"
    }
   ],
   "source": [
    "toy_train.head()"
   ]
  },
  {
   "cell_type": "markdown",
   "metadata": {},
   "source": [
    "#### Label encoder\n",
    "\n",
    "La transformation a fonctionné, cependant les deux nouvelles colonnes ne sont toujours pas exploitables dans un algorithme de machine learning. Le **LabelEncoder** de sklearn permet de convertir ces colonnes en colonnes catégoriques numériques."
   ]
  },
  {
   "cell_type": "code",
   "execution_count": 13,
   "metadata": {},
   "outputs": [
    {
     "name": "stderr",
     "output_type": "stream",
     "text": [
      "/home/laurent/anaconda2/lib/python2.7/site-packages/sklearn/preprocessing/label.py:252: DataConversionWarning: A column-vector y was passed when a 1d array was expected. Please change the shape of y to (n_samples, ), for example using ravel().\n",
      "  y = column_or_1d(y, warn=True)\n"
     ]
    }
   ],
   "source": [
    "from sklearn.preprocessing import LabelEncoder\n",
    "\n",
    "# encoder initialisation\n",
    "certain_label = LabelEncoder()\n",
    "positif_label = LabelEncoder()\n",
    "\n",
    "\n",
    "#Train set\n",
    "toy_train[\"certain\"] = certain_label.fit_transform(toy_train[\"certain\"].values)\n",
    "toy_train[\"positif\"] = positif_label.fit_transform(toy_train[\"positif\"].values)\n",
    "\n",
    "#Test set\n",
    "toy_test[\"certain\"] = certain_label.transform(toy_test[\"certain\"].values.reshape(-1,1))\n",
    "toy_test[\"positif\"] = positif_label.transform(toy_test[\"positif\"].values.reshape(-1,1))"
   ]
  },
  {
   "cell_type": "code",
   "execution_count": 14,
   "metadata": {},
   "outputs": [
    {
     "data": {
      "text/html": [
       "<div>\n",
       "<style scoped>\n",
       "    .dataframe tbody tr th:only-of-type {\n",
       "        vertical-align: middle;\n",
       "    }\n",
       "\n",
       "    .dataframe tbody tr th {\n",
       "        vertical-align: top;\n",
       "    }\n",
       "\n",
       "    .dataframe thead th {\n",
       "        text-align: right;\n",
       "    }\n",
       "</style>\n",
       "<table border=\"1\" class=\"dataframe\">\n",
       "  <thead>\n",
       "    <tr style=\"text-align: right;\">\n",
       "      <th></th>\n",
       "      <th>categorical</th>\n",
       "      <th>numerical_small</th>\n",
       "      <th>numerical_high</th>\n",
       "      <th>certain</th>\n",
       "      <th>positif</th>\n",
       "    </tr>\n",
       "  </thead>\n",
       "  <tbody>\n",
       "    <tr>\n",
       "      <th>0</th>\n",
       "      <td>1.0</td>\n",
       "      <td>6.900000</td>\n",
       "      <td>4561.200000</td>\n",
       "      <td>1</td>\n",
       "      <td>1</td>\n",
       "    </tr>\n",
       "    <tr>\n",
       "      <th>1</th>\n",
       "      <td>1.0</td>\n",
       "      <td>4.378571</td>\n",
       "      <td>2153.500000</td>\n",
       "      <td>0</td>\n",
       "      <td>1</td>\n",
       "    </tr>\n",
       "    <tr>\n",
       "      <th>2</th>\n",
       "      <td>1.0</td>\n",
       "      <td>0.230000</td>\n",
       "      <td>3125.000000</td>\n",
       "      <td>0</td>\n",
       "      <td>1</td>\n",
       "    </tr>\n",
       "    <tr>\n",
       "      <th>3</th>\n",
       "      <td>3.0</td>\n",
       "      <td>6.300000</td>\n",
       "      <td>6945.300000</td>\n",
       "      <td>0</td>\n",
       "      <td>0</td>\n",
       "    </tr>\n",
       "    <tr>\n",
       "      <th>4</th>\n",
       "      <td>1.0</td>\n",
       "      <td>2.000000</td>\n",
       "      <td>5615.714286</td>\n",
       "      <td>1</td>\n",
       "      <td>0</td>\n",
       "    </tr>\n",
       "  </tbody>\n",
       "</table>\n",
       "</div>"
      ],
      "text/plain": [
       "   categorical  numerical_small  numerical_high  certain  positif\n",
       "0          1.0         6.900000     4561.200000        1        1\n",
       "1          1.0         4.378571     2153.500000        0        1\n",
       "2          1.0         0.230000     3125.000000        0        1\n",
       "3          3.0         6.300000     6945.300000        0        0\n",
       "4          1.0         2.000000     5615.714286        1        0"
      ]
     },
     "execution_count": 14,
     "metadata": {},
     "output_type": "execute_result"
    }
   ],
   "source": [
    "toy_train.head()"
   ]
  },
  {
   "cell_type": "markdown",
   "metadata": {},
   "source": [
    "##### Categorical\n",
    "\n",
    "Pour cette colonne, nous allons uniquement appliquer le one-hot-encoding."
   ]
  },
  {
   "cell_type": "code",
   "execution_count": 15,
   "metadata": {},
   "outputs": [],
   "source": [
    "from sklearn.preprocessing import OneHotEncoder\n",
    "\n",
    "# encoder initialisation\n",
    "categorical_encoder = OneHotEncoder(categories = 'auto', sparse = False)\n",
    "\n",
    "#Train set\n",
    "new_columns_train = categorical_encoder.fit_transform(toy_train[\"categorical\"].values.reshape(-1,1))\n",
    "toy_train = toy_train.drop(columns=[\"categorical\"])\n",
    "toy_train = pd.concat([toy_train,pd.DataFrame(new_columns_train)], axis = 1)\n",
    "\n",
    "\n",
    "#Test set\n",
    "new_columns_test = categorical_encoder.transform(toy_test[\"categorical\"].values.reshape(-1,1))\n",
    "\n",
    "toy_test = toy_test.drop(columns=[\"categorical\"])\n",
    "toy_test = pd.concat([toy_test,pd.DataFrame(new_columns_test)], axis = 1)\n",
    "\n"
   ]
  },
  {
   "cell_type": "markdown",
   "metadata": {},
   "source": [
    "##### Numerical small et Numerical high\n",
    "\n",
    "Pour ces colonnes nous allons nous contenter de les normaliser."
   ]
  },
  {
   "cell_type": "code",
   "execution_count": 16,
   "metadata": {},
   "outputs": [],
   "source": [
    "from sklearn.preprocessing import StandardScaler\n",
    "\n",
    "# Scalers initialisation\n",
    "small_scaler = StandardScaler()\n",
    "high_scaler = StandardScaler()\n",
    "\n",
    "#Train set\n",
    "toy_train[\"numerical_small\"] = small_scaler.fit_transform(toy_train[\"numerical_small\"].values.reshape(-1,1))\n",
    "toy_train[\"numerical_high\"] = high_scaler.fit_transform(toy_train[\"numerical_high\"].values.reshape(-1,1))\n",
    "\n",
    "#Test set\n",
    "toy_test[\"numerical_small\"] = small_scaler.transform(toy_test[\"numerical_small\"].values.reshape(-1,1))\n",
    "toy_test[\"numerical_high\"] = high_scaler.transform(toy_test[\"numerical_high\"].values.reshape(-1,1))"
   ]
  },
  {
   "cell_type": "code",
   "execution_count": 17,
   "metadata": {},
   "outputs": [
    {
     "data": {
      "text/html": [
       "<div>\n",
       "<style scoped>\n",
       "    .dataframe tbody tr th:only-of-type {\n",
       "        vertical-align: middle;\n",
       "    }\n",
       "\n",
       "    .dataframe tbody tr th {\n",
       "        vertical-align: top;\n",
       "    }\n",
       "\n",
       "    .dataframe thead th {\n",
       "        text-align: right;\n",
       "    }\n",
       "</style>\n",
       "<table border=\"1\" class=\"dataframe\">\n",
       "  <thead>\n",
       "    <tr style=\"text-align: right;\">\n",
       "      <th></th>\n",
       "      <th>numerical_small</th>\n",
       "      <th>numerical_high</th>\n",
       "      <th>certain</th>\n",
       "      <th>positif</th>\n",
       "      <th>0</th>\n",
       "      <th>1</th>\n",
       "      <th>2</th>\n",
       "    </tr>\n",
       "  </thead>\n",
       "  <tbody>\n",
       "    <tr>\n",
       "      <th>0</th>\n",
       "      <td>0.624113</td>\n",
       "      <td>-3.865262e-01</td>\n",
       "      <td>1</td>\n",
       "      <td>1</td>\n",
       "      <td>1.0</td>\n",
       "      <td>0.0</td>\n",
       "      <td>0.0</td>\n",
       "    </tr>\n",
       "    <tr>\n",
       "      <th>1</th>\n",
       "      <td>0.000000</td>\n",
       "      <td>-1.269055e+00</td>\n",
       "      <td>0</td>\n",
       "      <td>1</td>\n",
       "      <td>1.0</td>\n",
       "      <td>0.0</td>\n",
       "      <td>0.0</td>\n",
       "    </tr>\n",
       "    <tr>\n",
       "      <th>2</th>\n",
       "      <td>-1.026869</td>\n",
       "      <td>-9.129572e-01</td>\n",
       "      <td>0</td>\n",
       "      <td>1</td>\n",
       "      <td>1.0</td>\n",
       "      <td>0.0</td>\n",
       "      <td>0.0</td>\n",
       "    </tr>\n",
       "    <tr>\n",
       "      <th>3</th>\n",
       "      <td>0.475599</td>\n",
       "      <td>4.873521e-01</td>\n",
       "      <td>0</td>\n",
       "      <td>0</td>\n",
       "      <td>0.0</td>\n",
       "      <td>0.0</td>\n",
       "      <td>1.0</td>\n",
       "    </tr>\n",
       "    <tr>\n",
       "      <th>4</th>\n",
       "      <td>-0.588752</td>\n",
       "      <td>-3.333701e-16</td>\n",
       "      <td>1</td>\n",
       "      <td>0</td>\n",
       "      <td>1.0</td>\n",
       "      <td>0.0</td>\n",
       "      <td>0.0</td>\n",
       "    </tr>\n",
       "  </tbody>\n",
       "</table>\n",
       "</div>"
      ],
      "text/plain": [
       "   numerical_small  numerical_high  certain  positif    0    1    2\n",
       "0         0.624113   -3.865262e-01        1        1  1.0  0.0  0.0\n",
       "1         0.000000   -1.269055e+00        0        1  1.0  0.0  0.0\n",
       "2        -1.026869   -9.129572e-01        0        1  1.0  0.0  0.0\n",
       "3         0.475599    4.873521e-01        0        0  0.0  0.0  1.0\n",
       "4        -0.588752   -3.333701e-16        1        0  1.0  0.0  0.0"
      ]
     },
     "execution_count": 17,
     "metadata": {},
     "output_type": "execute_result"
    }
   ],
   "source": [
    "toy_train.head()"
   ]
  },
  {
   "cell_type": "markdown",
   "metadata": {},
   "source": [
    "## Pipeline\n",
    "\n",
    "Le dataset résultant est utilisable pour l'apprentissage, et comme nous avons appliqué les transformations sur l'ensemble de test nous pouvons évaluer les performances de l'Algorithme sur ce dernier.\n",
    "\n",
    "Cependant, l'implémentation actuelle est fastidieuse et redondante. En effet, elle nécessite beaucoup de copier-coller. \n",
    "\n",
    "D'autre part, si on voulait effectuer une modification dans le processus de traitement des données et tester son impact sur la performance, il faudrait tout relancer manuellement sans rien oublier.\n",
    "\n",
    "Une solution existe dans **sklearn** pour pallier à ce problème, le **pipeline**.\n",
    "\n",
    "Il permet de lister la liste des transformations par colonne et de les appliquer en une seule fois.\n",
    "\n",
    "Ci-dessous, le même prétraitement des données mais cette fois en utilisant le pipeline."
   ]
  },
  {
   "cell_type": "code",
   "execution_count": 18,
   "metadata": {},
   "outputs": [],
   "source": [
    "from preprocessing import TransformationWrapper\n",
    "from preprocessing import LabelEncoderP\n",
    "from sklearn.pipeline import Pipeline, FeatureUnion\n",
    "from sklearn.compose import ColumnTransformer\n",
    "\n",
    "#textual\n",
    "pipeline_certain = Pipeline([\n",
    "    ('certain', TransformationWrapper(transformation = parse_certain)),\n",
    "    (\"encode\",LabelEncoderP()),\n",
    "])\n",
    "\n",
    "pipeline_positif = Pipeline([\n",
    "    ('positif', TransformationWrapper(transformation = parse_positif)),\n",
    "    (\"encode\",LabelEncoderP()),\n",
    "    \n",
    "])\n",
    "\n",
    "pipeline_textual_u = Pipeline([\n",
    "    (\"textual\", SimpleImputer(strategy = 'constant', fill_value = 'maybe yes')),\n",
    "    \n",
    "    ('feats', FeatureUnion([\n",
    "        ('certain', pipeline_certain), \n",
    "        ('positif', pipeline_positif) \n",
    "    ])),\n",
    "\n",
    "])\n",
    "\n",
    "# categorical\n",
    "pipeline_categorical = Pipeline([\n",
    "    (\"fillna\", SimpleImputer(strategy = 'constant', fill_value = 1.0) ),\n",
    "    (\"encode\",OneHotEncoder(categories = 'auto', sparse = False))\n",
    "])\n",
    "\n",
    "# numerical\n",
    "pipeline_numerical = Pipeline([\n",
    "    (\"fillna\", SimpleImputer(strategy = 'mean') ),\n",
    "    (\"scaler\",StandardScaler())\n",
    "])\n",
    "\n",
    "full_pipeline = ColumnTransformer([\n",
    "        (\"textual\", pipeline_textual_u, [\"textual\"]),\n",
    "        (\"categorical\", pipeline_categorical, [\"categorical\"]),\n",
    "        (\"numerical small\", pipeline_numerical, [\"numerical_small\"]),\n",
    "        (\"numerical high\", pipeline_numerical, [\"numerical_high\"]),\n",
    "    ])"
   ]
  },
  {
   "cell_type": "code",
   "execution_count": 22,
   "metadata": {},
   "outputs": [
    {
     "data": {
      "text/html": [
       "<div>\n",
       "<style scoped>\n",
       "    .dataframe tbody tr th:only-of-type {\n",
       "        vertical-align: middle;\n",
       "    }\n",
       "\n",
       "    .dataframe tbody tr th {\n",
       "        vertical-align: top;\n",
       "    }\n",
       "\n",
       "    .dataframe thead th {\n",
       "        text-align: right;\n",
       "    }\n",
       "</style>\n",
       "<table border=\"1\" class=\"dataframe\">\n",
       "  <thead>\n",
       "    <tr style=\"text-align: right;\">\n",
       "      <th></th>\n",
       "      <th>textual</th>\n",
       "      <th>categorical</th>\n",
       "      <th>numerical_small</th>\n",
       "      <th>numerical_high</th>\n",
       "    </tr>\n",
       "  </thead>\n",
       "  <tbody>\n",
       "    <tr>\n",
       "      <th>0</th>\n",
       "      <td>maybe yes</td>\n",
       "      <td>3.0</td>\n",
       "      <td>5.2</td>\n",
       "      <td>2547.4</td>\n",
       "    </tr>\n",
       "    <tr>\n",
       "      <th>1</th>\n",
       "      <td>maybe yes</td>\n",
       "      <td>1.0</td>\n",
       "      <td>0.5</td>\n",
       "      <td>5361.2</td>\n",
       "    </tr>\n",
       "  </tbody>\n",
       "</table>\n",
       "</div>"
      ],
      "text/plain": [
       "     textual  categorical  numerical_small  numerical_high\n",
       "0  maybe yes          3.0              5.2          2547.4\n",
       "1  maybe yes          1.0              0.5          5361.2"
      ]
     },
     "execution_count": 22,
     "metadata": {},
     "output_type": "execute_result"
    }
   ],
   "source": [
    "toy_test"
   ]
  },
  {
   "cell_type": "code",
   "execution_count": 25,
   "metadata": {},
   "outputs": [],
   "source": [
    "toy_train, toy_test= train_test_split(toy_dataframe, test_size=0.2, random_state=42)\n",
    "toy_train,toy_test = toy_train.reset_index(drop = True), toy_test.reset_index(drop = True)"
   ]
  },
  {
   "cell_type": "code",
   "execution_count": 26,
   "metadata": {},
   "outputs": [],
   "source": [
    "columns = [\"certain\",\"positif\",\"cat0\", \"cat1\",\"cat2\",\"numerical small\",\"numerical high\"]\n",
    "\n",
    "toy_train = pd.DataFrame(full_pipeline.fit_transform(toy_train),columns= columns)\n",
    "toy_test = pd.DataFrame(full_pipeline.transform(toy_test),columns= columns)"
   ]
  },
  {
   "cell_type": "code",
   "execution_count": 29,
   "metadata": {},
   "outputs": [
    {
     "data": {
      "text/html": [
       "<div>\n",
       "<style scoped>\n",
       "    .dataframe tbody tr th:only-of-type {\n",
       "        vertical-align: middle;\n",
       "    }\n",
       "\n",
       "    .dataframe tbody tr th {\n",
       "        vertical-align: top;\n",
       "    }\n",
       "\n",
       "    .dataframe thead th {\n",
       "        text-align: right;\n",
       "    }\n",
       "</style>\n",
       "<table border=\"1\" class=\"dataframe\">\n",
       "  <thead>\n",
       "    <tr style=\"text-align: right;\">\n",
       "      <th></th>\n",
       "      <th>certain</th>\n",
       "      <th>positif</th>\n",
       "      <th>cat0</th>\n",
       "      <th>cat1</th>\n",
       "      <th>cat2</th>\n",
       "      <th>numerical small</th>\n",
       "      <th>numerical high</th>\n",
       "    </tr>\n",
       "  </thead>\n",
       "  <tbody>\n",
       "    <tr>\n",
       "      <th>0</th>\n",
       "      <td>1.0</td>\n",
       "      <td>1.0</td>\n",
       "      <td>1.0</td>\n",
       "      <td>0.0</td>\n",
       "      <td>0.0</td>\n",
       "      <td>0.624113</td>\n",
       "      <td>-3.865262e-01</td>\n",
       "    </tr>\n",
       "    <tr>\n",
       "      <th>1</th>\n",
       "      <td>0.0</td>\n",
       "      <td>1.0</td>\n",
       "      <td>1.0</td>\n",
       "      <td>0.0</td>\n",
       "      <td>0.0</td>\n",
       "      <td>0.000000</td>\n",
       "      <td>-1.269055e+00</td>\n",
       "    </tr>\n",
       "    <tr>\n",
       "      <th>2</th>\n",
       "      <td>0.0</td>\n",
       "      <td>1.0</td>\n",
       "      <td>1.0</td>\n",
       "      <td>0.0</td>\n",
       "      <td>0.0</td>\n",
       "      <td>-1.026869</td>\n",
       "      <td>-9.129572e-01</td>\n",
       "    </tr>\n",
       "    <tr>\n",
       "      <th>3</th>\n",
       "      <td>0.0</td>\n",
       "      <td>0.0</td>\n",
       "      <td>0.0</td>\n",
       "      <td>0.0</td>\n",
       "      <td>1.0</td>\n",
       "      <td>0.475599</td>\n",
       "      <td>4.873521e-01</td>\n",
       "    </tr>\n",
       "    <tr>\n",
       "      <th>4</th>\n",
       "      <td>1.0</td>\n",
       "      <td>0.0</td>\n",
       "      <td>1.0</td>\n",
       "      <td>0.0</td>\n",
       "      <td>0.0</td>\n",
       "      <td>-0.588752</td>\n",
       "      <td>-3.333701e-16</td>\n",
       "    </tr>\n",
       "  </tbody>\n",
       "</table>\n",
       "</div>"
      ],
      "text/plain": [
       "   certain  positif  cat0  cat1  cat2  numerical small  numerical high\n",
       "0      1.0      1.0   1.0   0.0   0.0         0.624113   -3.865262e-01\n",
       "1      0.0      1.0   1.0   0.0   0.0         0.000000   -1.269055e+00\n",
       "2      0.0      1.0   1.0   0.0   0.0        -1.026869   -9.129572e-01\n",
       "3      0.0      0.0   0.0   0.0   1.0         0.475599    4.873521e-01\n",
       "4      1.0      0.0   1.0   0.0   0.0        -0.588752   -3.333701e-16"
      ]
     },
     "execution_count": 29,
     "metadata": {},
     "output_type": "execute_result"
    }
   ],
   "source": [
    "toy_train.head()"
   ]
  },
  {
   "cell_type": "markdown",
   "metadata": {},
   "source": [
    "Comme vous pouvez le remarquer, le code utilisant le pipeline est beaucoup plus compact et facile à modifier.\n",
    "De plus il s'exécute en une ligne, en utilisant **pipeline.fit_transform()** et les transformations peuvent être appliquées en une ligne\n",
    "sur l'ensemble de test sans fuite de donnée avec **pipeline.transform()**."
   ]
  },
  {
   "cell_type": "markdown",
   "metadata": {},
   "source": [
    "#### Explication du code du pipeline\n",
    "\n",
    "##### Pipeline\n",
    "Il s'agit d'une suite d'opérations. Chaque opération est représenté par un tuple de la forme:\n",
    "\n",
    "**(transformation name, transformer(parameters))**\n",
    "\n",
    "##### ColumnTransformer\n",
    "\n",
    "Permet de sélectionner les colonnes sur lesquelles appliquer une transformation. La transformation peut être un transformer simple ou un pipeline. Il s'agit d'une suite de tuples de la forme:\n",
    "\n",
    "**(transformation name, transformer(parameters) or pipeline_name, [columns to be transformed])**\n",
    "\n",
    "##### TransformationWrapper\n",
    "Il s'agit d'une classe implémentée spécifiquement pour le tp, elle permet d'appliquer des fonctions définies par l'utilisateur dans le pipeline.\n",
    "\n",
    "Cet objet est un **transformer** , il est donc muni d'une méthode **fit** et d'une méthode **transform** comme chaque transformer de sklearn.\n",
    "\n",
    "Il prend deux paramètres:\n",
    "* **fitation**: la fonction utilisée pour apprendre la transformation à effectuer, elle prend en entrée un dataframe et renvoie une liste contenant les paramètres ou données apprises\n",
    "* **transformation** : la fonction qui applique la transformation, **elle prend en entrée une ligne de colonne à traiter**, et renvoie la valeur résultante de la transformation. Optionnellement, elle peut prendre un deuxième argument en entrée, la liste renvoyée par la fonction donnée dans le paramètre **fitation**.\n",
    "\n",
    "Par exemple: **(\"parse\", TransformationWrapper(fitation = get_train_colors, transformation = parse_color))**\n",
    "\n",
    "#####  LabelEncoderP\n",
    "\n",
    "Dans sklearn 20.0 le transformer **LabelEncoder** présenté plus tôt dans le tutoriel est inutilisable dans le pipeline, **LabelEncoderP** est juste une surcharge qui permet d'utiliser ce transformer dans le pipeline.\n",
    "Elle est munie des mêmes fonctionnalités."
   ]
  },
  {
   "cell_type": "markdown",
   "metadata": {},
   "source": [
    "## Observer les données"
   ]
  },
  {
   "cell_type": "markdown",
   "metadata": {},
   "source": [
    "n premières lignes d'un DataFrame"
   ]
  },
  {
   "cell_type": "code",
   "execution_count": 31,
   "metadata": {},
   "outputs": [
    {
     "data": {
      "text/html": [
       "<div>\n",
       "<style scoped>\n",
       "    .dataframe tbody tr th:only-of-type {\n",
       "        vertical-align: middle;\n",
       "    }\n",
       "\n",
       "    .dataframe tbody tr th {\n",
       "        vertical-align: top;\n",
       "    }\n",
       "\n",
       "    .dataframe thead th {\n",
       "        text-align: right;\n",
       "    }\n",
       "</style>\n",
       "<table border=\"1\" class=\"dataframe\">\n",
       "  <thead>\n",
       "    <tr style=\"text-align: right;\">\n",
       "      <th></th>\n",
       "      <th>textual</th>\n",
       "      <th>categorical</th>\n",
       "      <th>numerical_small</th>\n",
       "      <th>numerical_high</th>\n",
       "    </tr>\n",
       "  </thead>\n",
       "  <tbody>\n",
       "    <tr>\n",
       "      <th>0</th>\n",
       "      <td>certainly yes</td>\n",
       "      <td>1.0</td>\n",
       "      <td>NaN</td>\n",
       "      <td>2153.5</td>\n",
       "    </tr>\n",
       "    <tr>\n",
       "      <th>1</th>\n",
       "      <td>maybe yes</td>\n",
       "      <td>1.0</td>\n",
       "      <td>0.50</td>\n",
       "      <td>5361.2</td>\n",
       "    </tr>\n",
       "    <tr>\n",
       "      <th>2</th>\n",
       "      <td>certainly no</td>\n",
       "      <td>3.0</td>\n",
       "      <td>6.30</td>\n",
       "      <td>6945.3</td>\n",
       "    </tr>\n",
       "    <tr>\n",
       "      <th>3</th>\n",
       "      <td>NaN</td>\n",
       "      <td>2.0</td>\n",
       "      <td>2.10</td>\n",
       "      <td>3215.2</td>\n",
       "    </tr>\n",
       "    <tr>\n",
       "      <th>4</th>\n",
       "      <td>certainly yes</td>\n",
       "      <td>NaN</td>\n",
       "      <td>0.12</td>\n",
       "      <td>9856.1</td>\n",
       "    </tr>\n",
       "  </tbody>\n",
       "</table>\n",
       "</div>"
      ],
      "text/plain": [
       "         textual  categorical  numerical_small  numerical_high\n",
       "0  certainly yes          1.0              NaN          2153.5\n",
       "1      maybe yes          1.0             0.50          5361.2\n",
       "2   certainly no          3.0             6.30          6945.3\n",
       "3            NaN          2.0             2.10          3215.2\n",
       "4  certainly yes          NaN             0.12          9856.1"
      ]
     },
     "execution_count": 31,
     "metadata": {},
     "output_type": "execute_result"
    }
   ],
   "source": [
    "toy_dataframe.head(5)"
   ]
  },
  {
   "cell_type": "markdown",
   "metadata": {},
   "source": [
    "Types de données et valeurs manquantes par colonne"
   ]
  },
  {
   "cell_type": "code",
   "execution_count": 32,
   "metadata": {},
   "outputs": [
    {
     "name": "stdout",
     "output_type": "stream",
     "text": [
      "<class 'pandas.core.frame.DataFrame'>\n",
      "RangeIndex: 10 entries, 0 to 9\n",
      "Data columns (total 4 columns):\n",
      "textual            9 non-null object\n",
      "categorical        6 non-null float64\n",
      "numerical_small    9 non-null float64\n",
      "numerical_high     9 non-null float64\n",
      "dtypes: float64(3), object(1)\n",
      "memory usage: 392.0+ bytes\n"
     ]
    }
   ],
   "source": [
    "toy_dataframe.info()"
   ]
  },
  {
   "cell_type": "markdown",
   "metadata": {},
   "source": [
    "Nombre de valeurs nulles par colonne"
   ]
  },
  {
   "cell_type": "code",
   "execution_count": 33,
   "metadata": {},
   "outputs": [
    {
     "data": {
      "text/plain": [
       "textual            1\n",
       "categorical        4\n",
       "numerical_small    1\n",
       "numerical_high     1\n",
       "dtype: int64"
      ]
     },
     "execution_count": 33,
     "metadata": {},
     "output_type": "execute_result"
    }
   ],
   "source": [
    "toy_dataframe.isnull().sum()"
   ]
  },
  {
   "cell_type": "markdown",
   "metadata": {},
   "source": [
    "Valeurs différentes et nombre de valeurs différentes pour une colonne"
   ]
  },
  {
   "cell_type": "code",
   "execution_count": 42,
   "metadata": {},
   "outputs": [
    {
     "data": {
      "text/plain": [
       "1.0    3\n",
       "3.0    2\n",
       "2.0    1\n",
       "Name: categorical, dtype: int64"
      ]
     },
     "execution_count": 42,
     "metadata": {},
     "output_type": "execute_result"
    }
   ],
   "source": [
    "(toy_dataframe[\"categorical\"].value_counts())"
   ]
  },
  {
   "cell_type": "markdown",
   "metadata": {},
   "source": [
    "Nombre de valeurs différentes pour une colonne"
   ]
  },
  {
   "cell_type": "code",
   "execution_count": 37,
   "metadata": {},
   "outputs": [
    {
     "data": {
      "text/plain": [
       "3"
      ]
     },
     "execution_count": 37,
     "metadata": {},
     "output_type": "execute_result"
    }
   ],
   "source": [
    "toy_dataframe[\"categorical\"].nunique()"
   ]
  },
  {
   "cell_type": "markdown",
   "metadata": {},
   "source": [
    "Afficher la distribution des données"
   ]
  },
  {
   "cell_type": "code",
   "execution_count": 41,
   "metadata": {},
   "outputs": [
    {
     "data": {
      "text/plain": [
       "array([[<matplotlib.axes._subplots.AxesSubplot object at 0x7f44766d8d50>,\n",
       "        <matplotlib.axes._subplots.AxesSubplot object at 0x7f44766429d0>],\n",
       "       [<matplotlib.axes._subplots.AxesSubplot object at 0x7f44766feb90>,\n",
       "        <matplotlib.axes._subplots.AxesSubplot object at 0x7f44765f9d50>]],\n",
       "      dtype=object)"
      ]
     },
     "execution_count": 41,
     "metadata": {},
     "output_type": "execute_result"
    },
    {
     "data": {
      "image/png": "[encoded data removed]",
      "text/plain": [
       "<Figure size 1080x360 with 4 Axes>"
      ]
     },
     "metadata": {},
     "output_type": "display_data"
    }
   ],
   "source": [
    "toy_dataframe.hist(figsize=(15,5))"
   ]
  }
 ],
 "metadata": {
  "kernelspec": {
   "display_name": "Python 2",
   "language": "python",
   "name": "python2"
  },
  "language_info": {
   "codemirror_mode": {
    "name": "ipython",
    "version": 2
   },
   "file_extension": ".py",
   "mimetype": "text/x-python",
   "name": "python",
   "nbconvert_exporter": "python",
   "pygments_lexer": "ipython2",
   "version": "2.7.15"
  }
 },
 "nbformat": 4,
 "nbformat_minor": 2
}
